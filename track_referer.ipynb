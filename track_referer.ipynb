{
 "metadata": {
  "name": "",
  "signature": "sha256:e2e6ae28be7cab28ac1b53b56e32c392256570d66bc4c1209148aa57fd50200f"
 },
 "nbformat": 3,
 "nbformat_minor": 0,
 "worksheets": [
  {
   "cells": [
    {
     "cell_type": "code",
     "collapsed": false,
     "input": [
      "from util_dao_mysql import VecsInfoDao\n",
      "import pandas as pd\n",
      "vecs_dao = VecsInfoDao()\n",
      "data = vecs_dao.get_dao().select('oc_online_plus_archive', columns=['time_arrived', 'base_referer', 'landing_page', 'ip_address'])"
     ],
     "language": "python",
     "metadata": {},
     "outputs": [],
     "prompt_number": 9
    },
    {
     "cell_type": "code",
     "collapsed": false,
     "input": [
      "df = pd.DataFrame(data, columns=['da', 'base', 'landing', 'ip'])\n",
      "df[df.columns[1:]] = df[df.columns[1:]].applymap(lambda x: x.decode('utf-8'))\n",
      "df['da'] = df['da'].apply(lambda x: x.strftime('%Y-%m-%d %H'))\n",
      "df = df[df['da'] > '2014-01-28']\n",
      "# df = df[df['da'] < '2015-01-25']\n",
      "# print df.tail()\n",
      "df_groupby = df.groupby(['landing'])['da'].count()\n",
      "df_groupby.order(inplace=True, ascending=False)\n",
      "print df_groupby.head(30)\n",
      "top_ip_list = list(df_groupby[df_groupby>=50].index)\n",
      "# print len(top_ip_list)"
     ],
     "language": "python",
     "metadata": {},
     "outputs": [
      {
       "output_type": "stream",
       "stream": "stdout",
       "text": [
        "landing\n",
        "/                                                               5606\n",
        "/index.php?route=pavblog%2Fblog&amp;id=13                       4388\n",
        "/masksale                                                       1521\n",
        "/?utm_source=fg1501&amp;utm_medium=fg1501&amp;utm_campaign=fg1501    1321\n",
        "/hydratingsale                                                  1028\n",
        "/?route=common/home&amp;utm_source=fg&amp;utm_medium=fg&amp;utm_campaign=fg     991\n",
        "/index.php?route=product%2Fcategory&amp;path=92                  766\n",
        "/antiagingrevivingcream                                          720\n",
        "/tryourproducts                                                  487\n",
        "/sale/refreshset1                                                482\n",
        "/GoldenOilSerum                                                  475\n",
        "/index.php?route=common/home                                     430\n",
        "/index.php?route=account/login                                   425\n",
        "/sale                                                            337\n",
        "/index.php?route=product/category&amp;path=82                    328\n",
        "/allproducts                                                     176\n",
        "/MakeupRemoverWater                                              171\n",
        "/index.php?route=checkout/cart                                   168\n",
        "/hydratingserum                                                  161\n",
        "/GoldenOilSerum?utm_source=lin&amp;utm_medium=lin&amp;utm_campaign=lin     151\n",
        "/index.php?route=product/category&amp;path=92                    132\n",
        "/OurStory                                                        122\n",
        "/index.php?route=product/category&amp;path=85                    112\n",
        "/index.php?route=product/category&amp;path=90                    110\n",
        "/allproducts/raspmask                                            107\n",
        "/index.php?route=product/special                                  89\n",
        "/index.php?route=product/category&amp;path=82&amp;utm_source=mien&amp;utm_medium=mien&amp;utm_campaign=mien      87\n",
        "/?route=common/home                                               86\n",
        "/index.php?route=pavblog%2Fblog&amp;id=37                         76\n",
        "/index.php?route=product/category&amp;path=86                     71\n",
        "Name: da, dtype: int64\n"
       ]
      }
     ],
     "prompt_number": 11
    },
    {
     "cell_type": "heading",
     "level": 1,
     "metadata": {},
     "source": [
      "Use Regular Expression to build a pattern, then decompose url string"
     ]
    },
    {
     "cell_type": "code",
     "collapsed": false,
     "input": [
      "import re\n",
      "import numpy as np\n",
      "pattern = r'(http[s]*://)([A-Z0-9\\._]+)(\\.[com]*[net]*[A-Z0-9\\./_]*)'\n",
      "regex = re.compile(pattern, flags=re.IGNORECASE)\n",
      "text = df['base']\n",
      "\n",
      "decompose_list = text.map(regex.findall)\n",
      "domain = []\n",
      "for data in decompose_list:\n",
      "    if data:\n",
      "        domain.append(data[0][1])\n",
      "base_domain = pd.Series(domain, name='Referer From Where')\n",
      "print base_domain.describe()\n",
      "print base_domain.value_counts()"
     ],
     "language": "python",
     "metadata": {},
     "outputs": [
      {
       "output_type": "stream",
       "stream": "stdout",
       "text": [
        "count          15984\n",
        "unique            91\n",
        "top       m.facebook\n",
        "freq            5716\n",
        "dtype: object\n",
        "m.facebook                 5716\n",
        "lsberryw.pixnet            1332\n",
        "vecsgardenia               1234\n",
        "www.google.com             1000\n",
        "igisele                     846\n",
        "www.facebook                811\n",
        "fgcash.fashionguide.com     757\n",
        "mllife1988.pixnet           491\n",
        "l.facebook                  488\n",
        "forum.fashionguide.com      488\n",
        "lm.facebook                 388\n",
        "r.search.yahoo              315\n",
        "www.fashionguide.com        293\n",
        "baba750702.pixnet           285\n",
        "edm.newsleopard             186\n",
        "...\n",
        "www.feedly                 1\n",
        "getpocket                  1\n",
        "3c.fashionguide.com        1\n",
        "wm3.url.com                1\n",
        "video.fashionguide.com     1\n",
        "bravobaby.pixnet           1\n",
        "adm3.gcosme                1\n",
        "case.fashionguide.com      1\n",
        "hk.search.yahoo            1\n",
        "lovely.pixnet              1\n",
        "xrumertool.wordpress       1\n",
        "tiffanychung0118.pixnet    1\n",
        "search.yahoo.co            1\n",
        "webmail.customs.gov        1\n",
        "bestbowling                1\n",
        "Length: 91, dtype: int64\n"
       ]
      }
     ],
     "prompt_number": 12
    },
    {
     "cell_type": "code",
     "collapsed": false,
     "input": [],
     "language": "python",
     "metadata": {},
     "outputs": [],
     "prompt_number": 3
    },
    {
     "cell_type": "code",
     "collapsed": false,
     "input": [],
     "language": "python",
     "metadata": {},
     "outputs": []
    }
   ],
   "metadata": {}
  }
 ]
}