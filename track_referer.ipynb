{
 "metadata": {
  "name": "",
  "signature": "sha256:8fc02a72fcaf560db2fb5166aa236f88e2eda7973ac924926a44a7bae81807af"
 },
 "nbformat": 3,
 "nbformat_minor": 0,
 "worksheets": [
  {
   "cells": [
    {
     "cell_type": "code",
     "collapsed": false,
     "input": [
      "from util_dao_mysql import VecsInfoDao\n",
      "import pandas as pd\n",
      "vecs_dao = VecsInfoDao()\n",
      "data = vecs_dao.get_dao().select('oc_online_plus_archive', columns=['time_arrived', 'base_referer', 'landing_page', 'ip_address'])"
     ],
     "language": "python",
     "metadata": {},
     "outputs": [],
     "prompt_number": 1
    },
    {
     "cell_type": "code",
     "collapsed": false,
     "input": [
      "df = pd.DataFrame(data, columns=['da', 'base', 'landing', 'ip'])\n",
      "df[df.columns[1:]] = df[df.columns[1:]].applymap(lambda x: x.decode('utf-8'))\n",
      "df['da'] = df['da'].apply(lambda x: x.strftime('%Y-%m-%d %H'))\n",
      "df = df[df['da'] > '2015-01-01']\n",
      "df_groupby = df.groupby(['base'])['da'].count()\n",
      "df_groupby.order(inplace=True, ascending=False)\n",
      "print df_groupby.head(30)\n",
      "top_ip_list = list(df_groupby[df_groupby>=50].index)\n",
      "print len(top_ip_list)"
     ],
     "language": "python",
     "metadata": {},
     "outputs": [
      {
       "output_type": "stream",
       "stream": "stdout",
       "text": [
        "base\n",
        "Unknown                                                  867\n",
        "http://fgcash.fashionguide.com.tw/bonus_my_member.php    360\n",
        "http://fgcash.fashionguide.com.tw/bonus_exchange.php     349\n",
        "http://forum.fashionguide.com.tw/topic_list.php          259\n",
        "http://forum.fashionguide.com.tw/post_list.php           218\n",
        "http://m.facebook.com/                                   208\n",
        "http://www.fashionguide.com.tw/                          198\n",
        "https://www.google.com.tw/                                96\n",
        "http://member.fashionguide.com.tw/index.php               83\n",
        "http://m.facebook.com                                     78\n",
        "Name: da, dtype: int64\n",
        "13\n"
       ]
      }
     ],
     "prompt_number": 14
    },
    {
     "cell_type": "heading",
     "level": 1,
     "metadata": {},
     "source": [
      "Use Regular Expression to build a pattern, then decompose url string"
     ]
    },
    {
     "cell_type": "code",
     "collapsed": false,
     "input": [
      "import re\n",
      "import numpy as np\n",
      "pattern = r'(http[s]*://)([A-Z0-9\\._]+)(\\.com[A-Z0-9\\./_]*)'\n",
      "regex = re.compile(pattern, flags=re.IGNORECASE)\n",
      "text = df['base']\n",
      "\n",
      "decompose_list = text.map(regex.findall)\n",
      "domain = []\n",
      "for data in decompose_list:\n",
      "    if data:\n",
      "        domain.append(data[0][1])\n",
      "base_domain = pd.Series(domain, name='Referer From Where')\n",
      "print base_domain.describe()\n",
      "print base_domain.value_counts()"
     ],
     "language": "python",
     "metadata": {},
     "outputs": [
      {
       "output_type": "stream",
       "stream": "stdout",
       "text": [
        "count                    3112\n",
        "unique                     39\n",
        "top       fgcash.fashionguide\n",
        "freq                      757\n",
        "dtype: object\n",
        "fgcash.fashionguide         757\n",
        "forum.fashionguide          488\n",
        "m.facebook                  321\n",
        "www.fashionguide            293\n",
        "www.google                  189\n",
        "member.fashionguide         160\n",
        "ocgardenia                  129\n",
        "active.fashionguide         115\n",
        "diet.fashionguide            94\n",
        "fit.fashionguide             74\n",
        "www.facebook                 65\n",
        "newproducts.fashionguide     62\n",
        "l.facebook                   53\n",
        "sale.fashionguide            48\n",
        "blog.fashionguide            35\n",
        "lm.facebook                  31\n",
        "r.search.yahoo               31\n",
        "style.fashionguide           27\n",
        "edm.newsleopard              22\n",
        "news.fashionguide            20\n",
        "search.fashionguide          19\n",
        "hair.fashionguide            15\n",
        "www.ocgardenia               12\n",
        "fb.fashionguide               9\n",
        "beautynews.fashionguide       8\n",
        "fgmagazine.fashionguide       7\n",
        "man.fashionguide              6\n",
        "buy.fashionguide              5\n",
        "tw.search.yahoo               4\n",
        "www.netcraft                  2\n",
        "searches.globososo            2\n",
        "travel.fashionguide           2\n",
        "video.fashionguide            1\n",
        "www.gounboxing                1\n",
        "3c.fashionguide               1\n",
        "mailadmin.pumo                1\n",
        "onlinebooksclub               1\n",
        "case.fashionguide             1\n",
        "stuffgate                     1\n",
        "dtype: int64\n"
       ]
      }
     ],
     "prompt_number": 183
    },
    {
     "cell_type": "code",
     "collapsed": false,
     "input": [],
     "language": "python",
     "metadata": {},
     "outputs": []
    }
   ],
   "metadata": {}
  }
 ]
}